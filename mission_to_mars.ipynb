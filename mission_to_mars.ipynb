{
 "cells": [
  {
   "cell_type": "code",
   "execution_count": 18,
   "metadata": {},
   "outputs": [],
   "source": [
    "# DEPENDENCIES\n",
    "from bs4 import BeautifulSoup as bs\n",
    "import requests\n",
    "from splinter import Browser\n",
    "import pandas as pd"
   ]
  },
  {
   "cell_type": "code",
   "execution_count": 2,
   "metadata": {},
   "outputs": [
    {
     "name": "stdout",
     "output_type": "stream",
     "text": [
      "Title: Opportunity Hunkers Down During Dust Storm\n",
      "Paragraph: As of Tuesday morning, June 19, the Martian dust storm had grown in size and was officially a \"planet-encircling\" (or \"global\") dust event. \n"
     ]
    }
   ],
   "source": [
    "# NASA MARS NEWS\n",
    "\n",
    "# URL of page to be scraped\n",
    "url = 'https://mars.nasa.gov/news/?page=0&per_page=40&order=publish_date+desc%2Ccreated_at+desc&search=&category=19%2C165%2C184%2C204&blank_scope=Latest'\n",
    "# Retrieve page with the requests module\n",
    "response = requests.get(url)\n",
    "# Create BeautifulSoup object; parse with 'html.parser'\n",
    "soup = bs(response.text, 'html.parser')\n",
    "\n",
    "content_title = soup.find(class_=\"content_title\").text.replace('\\n', '')\n",
    "print(\"Title:\" , content_title)\n",
    "content_paragraph = soup.find(class_=\"rollover_description_inner\").text.replace('\\n', '')\n",
    "print(\"Paragraph:\" , content_paragraph)"
   ]
  },
  {
   "cell_type": "code",
   "execution_count": 3,
   "metadata": {},
   "outputs": [
    {
     "name": "stdout",
     "output_type": "stream",
     "text": [
      "https://www.jpl.nasa.gov/spaceimages/images/mediumsize/PIA16763_ip.jpg\n"
     ]
    }
   ],
   "source": [
    "# JPL MARS FEATURED IMAGE\n",
    "executable_path = {'executable_path': 'chromedriver.exe'}\n",
    "browser = Browser('chrome', **executable_path, headless=False)\n",
    "\n",
    "# URL of page to be scraped\n",
    "url = 'https://www.jpl.nasa.gov/spaceimages/?search=&category=Mars'\n",
    "browser.visit(url)\n",
    "\n",
    "# Create BeautifulSoup object; parse with 'html.parser'\n",
    "html = browser.html\n",
    "soup = bs(html, 'html.parser')\n",
    "\n",
    "# Find desired info\n",
    "footer = soup.find('footer')\n",
    "img = footer.find('a')\n",
    "link = img['data-fancybox-href']\n",
    "featured_image_url = 'https://www.jpl.nasa.gov' + link\n",
    "print(featured_image_url)\n",
    "\n",
    "browser.quit()"
   ]
  },
  {
   "cell_type": "code",
   "execution_count": 4,
   "metadata": {},
   "outputs": [
    {
     "name": "stdout",
     "output_type": "stream",
     "text": [
      "Sol 2108 (2018-07-12), Sunny, high -24C/-11F, low -65C/-84F, pressure at 8.06 hPa, daylight 05:19-17:27\n"
     ]
    }
   ],
   "source": [
    "# MARS WEATHER\n",
    "\n",
    "# URL of page to be scraped\n",
    "url = 'https://twitter.com/marswxreport?lang=en'\n",
    "response = requests.get(url)\n",
    "soup = bs(response.text, 'html.parser')\n",
    "\n",
    "# reset variable in case of multiple runs\n",
    "mars_weather = 'a'\n",
    "\n",
    "# loop with break point after most recent tweet by @MarsWxReport\n",
    "for x in range(1,2):\n",
    "    tweets = soup.find_all(class_=\"tweet\")\n",
    "    for tweet in tweets:\n",
    "        tweet_id = tweet['data-tweet-id']\n",
    "        tweet_user = tweet['data-screen-name']\n",
    "        #ensure scraped tweet was authored by this account and not retweeted\n",
    "        if tweet_user == 'MarsWxReport':\n",
    "            mars_weather = tweet.find(class_=\"content\").find(class_=\"js-tweet-text-container\").find('p').text\n",
    "            break\n",
    "            \n",
    "print(mars_weather)"
   ]
  },
  {
   "cell_type": "code",
   "execution_count": 20,
   "metadata": {},
   "outputs": [
    {
     "data": {
      "text/plain": [
       "'<table border=\"1\" class=\"dataframe\">  <thead>    <tr style=\"text-align: right;\">      <th></th>      <th>Equatorial Diameter</th>      <th>Polar Diameter</th>      <th>Mass</th>      <th>Moons</th>      <th>Orbit Distance</th>      <th>Orbit Period</th>      <th>Surface Temperature</th>      <th>First Record</th>      <th>Recorded By</th>    </tr>  </thead>  <tbody>    <tr>      <th>1</th>      <td>6,792 km</td>      <td>6,752 km</td>      <td>6.42 x 10^23 kg (10.7% Earth)</td>      <td>2 (Phobos &amp; Deimos)</td>      <td>227,943,824 km (1.52 AU)</td>      <td>687 days (1.9 years)</td>      <td>-153 to 20 °C</td>      <td>2nd millennium BC</td>      <td>Egyptian astronomers</td>    </tr>  </tbody></table>'"
      ]
     },
     "execution_count": 20,
     "metadata": {},
     "output_type": "execute_result"
    }
   ],
   "source": [
    "# MARS FACTS\n",
    "\n",
    "# scrape page for tables\n",
    "url = 'https://space-facts.com/mars/'\n",
    "table = pd.read_html(url)\n",
    "\n",
    "# Convert table to DataFrame \n",
    "df = table[0]\n",
    "df = df.transpose()\n",
    "df.columns = df.iloc[0].str.replace(\":\", \"\")\n",
    "df = df.drop(0)\n",
    "\n",
    "# Convert DataFrame to HTML table\n",
    "html_table = df.to_html().replace('\\n', '')\n",
    "html_table"
   ]
  },
  {
   "cell_type": "code",
   "execution_count": 17,
   "metadata": {},
   "outputs": [
    {
     "data": {
      "text/plain": [
       "[[{'img_url': 'http://astropedia.astrogeology.usgs.gov/download/Mars/Viking/cerberus_enhanced.tif/full.jpg',\n",
       "   'title': 'Cerberus Hemisphere'},\n",
       "  {'img_url': 'http://astropedia.astrogeology.usgs.gov/download/Mars/Viking/schiaparelli_enhanced.tif/full.jpg',\n",
       "   'title': 'Schiaparelli Hemisphere'},\n",
       "  {'img_url': 'http://astropedia.astrogeology.usgs.gov/download/Mars/Viking/syrtis_major_enhanced.tif/full.jpg',\n",
       "   'title': 'Syrtis Major Hemisphere'},\n",
       "  {'img_url': 'http://astropedia.astrogeology.usgs.gov/download/Mars/Viking/valles_marineris_enhanced.tif/full.jpg',\n",
       "   'title': 'Valles Marineris Hemisphere'}]]"
      ]
     },
     "execution_count": 17,
     "metadata": {},
     "output_type": "execute_result"
    }
   ],
   "source": [
    "# MARS HEMISPHERES\n",
    "executable_path = {'executable_path': 'chromedriver.exe'}\n",
    "browser = Browser('chrome', **executable_path, headless=False)\n",
    "\n",
    "# URL of page to be scraped\n",
    "url = 'https://astrogeology.usgs.gov/search/results?q=hemisphere+enhanced&k1=target&v1=Mars'\n",
    "browser.visit(url)\n",
    "\n",
    "# Initialize Lists\n",
    "hemisphere_image_urls = []\n",
    "img_url = []\n",
    "title = []\n",
    "links_to_visit = []\n",
    "\n",
    "# Create BeautifulSoup object; parse with 'html.parser'\n",
    "html = browser.html\n",
    "soup = bs(html, 'html.parser')\n",
    "\n",
    "# Find desired info\n",
    "descriptions = soup.find_all(class_='description')\n",
    "for description in descriptions: \n",
    "    link = description.find('a')\n",
    "    h3 = link.find('h3')\n",
    "    partial_text = h3.text\n",
    "    links_to_visit.append(partial_text)\n",
    "\n",
    "for link in links_to_visit:\n",
    "    add_title = link.replace(\" Enhanced\", \"\")\n",
    "    title.append(add_title)\n",
    "    browser.click_link_by_partial_text(link)\n",
    "    html = browser.html\n",
    "    soup = bs(html, 'html.parser')\n",
    "    download = soup.find(class_='downloads')\n",
    "    ul = download.find('ul')\n",
    "    li = ul.find('li')\n",
    "    lnk = li.find('a')\n",
    "    add_url = lnk['href']\n",
    "    img_url.append(add_url)\n",
    "    browser.visit(url)\n",
    "    html = browser.html\n",
    "    soup = bs(html, 'html.parser')\n",
    "\n",
    "browser.quit()\n",
    "\n",
    "dict_0 = {\"title\": title[0], \"img_url\": img_url[0]}\n",
    "dict_1 = {\"title\": title[1], \"img_url\": img_url[1]}\n",
    "dict_2 = {\"title\": title[2], \"img_url\": img_url[2]}\n",
    "dict_3 = {\"title\": title[3], \"img_url\": img_url[3]}\n",
    "hemisphere_image_urls.append([dict_0,dict_1,dict_2,dict_3])\n",
    "hemisphere_image_urls"
   ]
  }
 ],
 "metadata": {
  "kernelspec": {
   "display_name": "Python 3",
   "language": "python",
   "name": "python3"
  },
  "language_info": {
   "codemirror_mode": {
    "name": "ipython",
    "version": 3
   },
   "file_extension": ".py",
   "mimetype": "text/x-python",
   "name": "python",
   "nbconvert_exporter": "python",
   "pygments_lexer": "ipython3",
   "version": "3.6.4"
  }
 },
 "nbformat": 4,
 "nbformat_minor": 2
}
